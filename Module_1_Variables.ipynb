{
  "nbformat": 4,
  "nbformat_minor": 0,
  "metadata": {
    "colab": {
      "provenance": [],
      "authorship_tag": "ABX9TyM+cwi5Th23f7HAepPrk8H5",
      "include_colab_link": true
    },
    "kernelspec": {
      "name": "python3",
      "display_name": "Python 3"
    },
    "language_info": {
      "name": "python"
    }
  },
  "cells": [
    {
      "cell_type": "markdown",
      "metadata": {
        "id": "view-in-github",
        "colab_type": "text"
      },
      "source": [
        "<a href=\"https://colab.research.google.com/github/Branre42/Module-1-Variables/blob/main/Module_1_Variables.ipynb\" target=\"_parent\"><img src=\"https://colab.research.google.com/assets/colab-badge.svg\" alt=\"Open In Colab\"/></a>"
      ]
    },
    {
      "cell_type": "code",
      "execution_count": 1,
      "metadata": {
        "colab": {
          "base_uri": "https://localhost:8080/"
        },
        "id": "zlxunrkCBWcC",
        "outputId": "62710c2f-b7ad-4e6c-be86-df33ee3693cb"
      },
      "outputs": [
        {
          "output_type": "stream",
          "name": "stdout",
          "text": [
            "Enter your name: Brandon\n",
            "Enter your country: Ecuador\n",
            "Enter your school: CCTB\n",
            "Enter the location of your school: Vancouver\n",
            "My name is Brandon from Ecuador studying at CCTB in Vancouver\n"
          ]
        }
      ],
      "source": [
        "\n",
        "\n",
        "\n",
        "name = input(\"Enter your name: \")\n",
        "country = input(\"Enter your country: \" )\n",
        "school = input(\"Enter your school: \")\n",
        "location = input(\"Enter the location of your school: \")\n",
        "\n",
        "\n",
        "\n",
        "print (\"My name is \"+ name + \" from \" + country + \" studying at \" + school + \" in \" + location)"
      ]
    }
  ]
}